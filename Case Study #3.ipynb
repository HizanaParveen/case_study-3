{
 "cells": [
  {
   "cell_type": "markdown",
   "id": "cebddead",
   "metadata": {},
   "source": [
    "### import libraries"
   ]
  },
  {
   "cell_type": "code",
   "execution_count": 1,
   "id": "a2cf9d77",
   "metadata": {},
   "outputs": [],
   "source": [
    "import pandas as pd\n",
    "import numpy as np\n",
    "import matplotlib.pyplot as plt\n",
    "import seaborn as sns"
   ]
  },
  {
   "cell_type": "markdown",
   "id": "2baa7067",
   "metadata": {},
   "source": [
    "### Read Data"
   ]
  },
  {
   "cell_type": "code",
   "execution_count": 2,
   "id": "0b59246e",
   "metadata": {},
   "outputs": [
    {
     "data": {
      "text/html": [
       "<div>\n",
       "<style scoped>\n",
       "    .dataframe tbody tr th:only-of-type {\n",
       "        vertical-align: middle;\n",
       "    }\n",
       "\n",
       "    .dataframe tbody tr th {\n",
       "        vertical-align: top;\n",
       "    }\n",
       "\n",
       "    .dataframe thead th {\n",
       "        text-align: right;\n",
       "    }\n",
       "</style>\n",
       "<table border=\"1\" class=\"dataframe\">\n",
       "  <thead>\n",
       "    <tr style=\"text-align: right;\">\n",
       "      <th></th>\n",
       "      <th>Month</th>\n",
       "      <th>Region</th>\n",
       "      <th>Manager</th>\n",
       "      <th>Sales_before_digital_add(in $)</th>\n",
       "      <th>Sales_After_digital_add(in $)</th>\n",
       "      <th>Unnamed: 5</th>\n",
       "    </tr>\n",
       "  </thead>\n",
       "  <tbody>\n",
       "    <tr>\n",
       "      <th>0</th>\n",
       "      <td>Month-1</td>\n",
       "      <td>Region - A</td>\n",
       "      <td>Manager - A</td>\n",
       "      <td>132921.0</td>\n",
       "      <td>270390.0</td>\n",
       "      <td>NaN</td>\n",
       "    </tr>\n",
       "    <tr>\n",
       "      <th>1</th>\n",
       "      <td>Month-2</td>\n",
       "      <td>Region - A</td>\n",
       "      <td>Manager - C</td>\n",
       "      <td>149559.0</td>\n",
       "      <td>223334.0</td>\n",
       "      <td>NaN</td>\n",
       "    </tr>\n",
       "    <tr>\n",
       "      <th>2</th>\n",
       "      <td>Month-3</td>\n",
       "      <td>Region - B</td>\n",
       "      <td>Manager - A</td>\n",
       "      <td>146278.0</td>\n",
       "      <td>244243.0</td>\n",
       "      <td>NaN</td>\n",
       "    </tr>\n",
       "    <tr>\n",
       "      <th>3</th>\n",
       "      <td>Month-4</td>\n",
       "      <td>Region - B</td>\n",
       "      <td>Manager - B</td>\n",
       "      <td>152167.0</td>\n",
       "      <td>231808.0</td>\n",
       "      <td>NaN</td>\n",
       "    </tr>\n",
       "    <tr>\n",
       "      <th>4</th>\n",
       "      <td>Month-5</td>\n",
       "      <td>Region - C</td>\n",
       "      <td>Manager - B</td>\n",
       "      <td>159525.0</td>\n",
       "      <td>258402.0</td>\n",
       "      <td>NaN</td>\n",
       "    </tr>\n",
       "  </tbody>\n",
       "</table>\n",
       "</div>"
      ],
      "text/plain": [
       "     Month      Region      Manager  Sales_before_digital_add(in $)  \\\n",
       "0  Month-1  Region - A  Manager - A                        132921.0   \n",
       "1  Month-2  Region - A  Manager - C                        149559.0   \n",
       "2  Month-3  Region - B  Manager - A                        146278.0   \n",
       "3  Month-4  Region - B  Manager - B                        152167.0   \n",
       "4  Month-5  Region - C  Manager - B                        159525.0   \n",
       "\n",
       "   Sales_After_digital_add(in $)  Unnamed: 5  \n",
       "0                       270390.0         NaN  \n",
       "1                       223334.0         NaN  \n",
       "2                       244243.0         NaN  \n",
       "3                       231808.0         NaN  \n",
       "4                       258402.0         NaN  "
      ]
     },
     "execution_count": 2,
     "metadata": {},
     "output_type": "execute_result"
    }
   ],
   "source": [
    "data=pd.read_csv('Sales_add.csv')\n",
    "data.head()"
   ]
  },
  {
   "cell_type": "markdown",
   "id": "b70bda6c",
   "metadata": {},
   "source": [
    "### Checking for Null and deleting null rows and columns"
   ]
  },
  {
   "cell_type": "code",
   "execution_count": 3,
   "id": "3a878af7",
   "metadata": {},
   "outputs": [
    {
     "name": "stdout",
     "output_type": "stream",
     "text": [
      "<class 'pandas.core.frame.DataFrame'>\n",
      "RangeIndex: 25 entries, 0 to 24\n",
      "Data columns (total 6 columns):\n",
      " #   Column                          Non-Null Count  Dtype  \n",
      "---  ------                          --------------  -----  \n",
      " 0   Month                           22 non-null     object \n",
      " 1   Region                          22 non-null     object \n",
      " 2   Manager                         22 non-null     object \n",
      " 3   Sales_before_digital_add(in $)  22 non-null     float64\n",
      " 4   Sales_After_digital_add(in $)   22 non-null     float64\n",
      " 5   Unnamed: 5                      0 non-null      float64\n",
      "dtypes: float64(3), object(3)\n",
      "memory usage: 1.3+ KB\n"
     ]
    }
   ],
   "source": [
    "data.info()"
   ]
  },
  {
   "cell_type": "code",
   "execution_count": 4,
   "id": "83fd441c",
   "metadata": {},
   "outputs": [
    {
     "data": {
      "text/html": [
       "<div>\n",
       "<style scoped>\n",
       "    .dataframe tbody tr th:only-of-type {\n",
       "        vertical-align: middle;\n",
       "    }\n",
       "\n",
       "    .dataframe tbody tr th {\n",
       "        vertical-align: top;\n",
       "    }\n",
       "\n",
       "    .dataframe thead th {\n",
       "        text-align: right;\n",
       "    }\n",
       "</style>\n",
       "<table border=\"1\" class=\"dataframe\">\n",
       "  <thead>\n",
       "    <tr style=\"text-align: right;\">\n",
       "      <th></th>\n",
       "      <th>Month</th>\n",
       "      <th>Region</th>\n",
       "      <th>Manager</th>\n",
       "      <th>Sales_before_digital_add(in $)</th>\n",
       "      <th>Sales_After_digital_add(in $)</th>\n",
       "    </tr>\n",
       "  </thead>\n",
       "  <tbody>\n",
       "    <tr>\n",
       "      <th>0</th>\n",
       "      <td>Month-1</td>\n",
       "      <td>Region - A</td>\n",
       "      <td>Manager - A</td>\n",
       "      <td>132921.0</td>\n",
       "      <td>270390.0</td>\n",
       "    </tr>\n",
       "    <tr>\n",
       "      <th>1</th>\n",
       "      <td>Month-2</td>\n",
       "      <td>Region - A</td>\n",
       "      <td>Manager - C</td>\n",
       "      <td>149559.0</td>\n",
       "      <td>223334.0</td>\n",
       "    </tr>\n",
       "    <tr>\n",
       "      <th>2</th>\n",
       "      <td>Month-3</td>\n",
       "      <td>Region - B</td>\n",
       "      <td>Manager - A</td>\n",
       "      <td>146278.0</td>\n",
       "      <td>244243.0</td>\n",
       "    </tr>\n",
       "    <tr>\n",
       "      <th>3</th>\n",
       "      <td>Month-4</td>\n",
       "      <td>Region - B</td>\n",
       "      <td>Manager - B</td>\n",
       "      <td>152167.0</td>\n",
       "      <td>231808.0</td>\n",
       "    </tr>\n",
       "    <tr>\n",
       "      <th>4</th>\n",
       "      <td>Month-5</td>\n",
       "      <td>Region - C</td>\n",
       "      <td>Manager - B</td>\n",
       "      <td>159525.0</td>\n",
       "      <td>258402.0</td>\n",
       "    </tr>\n",
       "    <tr>\n",
       "      <th>5</th>\n",
       "      <td>Month-6</td>\n",
       "      <td>Region - A</td>\n",
       "      <td>Manager - B</td>\n",
       "      <td>137163.0</td>\n",
       "      <td>256948.0</td>\n",
       "    </tr>\n",
       "    <tr>\n",
       "      <th>6</th>\n",
       "      <td>Month-7</td>\n",
       "      <td>Region - C</td>\n",
       "      <td>Manager - C</td>\n",
       "      <td>130625.0</td>\n",
       "      <td>222106.0</td>\n",
       "    </tr>\n",
       "    <tr>\n",
       "      <th>7</th>\n",
       "      <td>Month-8</td>\n",
       "      <td>Region - A</td>\n",
       "      <td>Manager - A</td>\n",
       "      <td>131140.0</td>\n",
       "      <td>230637.0</td>\n",
       "    </tr>\n",
       "    <tr>\n",
       "      <th>8</th>\n",
       "      <td>Month-9</td>\n",
       "      <td>Region - B</td>\n",
       "      <td>Manager - C</td>\n",
       "      <td>171259.0</td>\n",
       "      <td>226261.0</td>\n",
       "    </tr>\n",
       "    <tr>\n",
       "      <th>9</th>\n",
       "      <td>Month-10</td>\n",
       "      <td>Region - C</td>\n",
       "      <td>Manager - B</td>\n",
       "      <td>141956.0</td>\n",
       "      <td>193735.0</td>\n",
       "    </tr>\n",
       "    <tr>\n",
       "      <th>10</th>\n",
       "      <td>Month-11</td>\n",
       "      <td>Region - B</td>\n",
       "      <td>Manager - C</td>\n",
       "      <td>159339.0</td>\n",
       "      <td>203175.0</td>\n",
       "    </tr>\n",
       "    <tr>\n",
       "      <th>11</th>\n",
       "      <td>Month-12</td>\n",
       "      <td>Region - A</td>\n",
       "      <td>Manager - A</td>\n",
       "      <td>178939.0</td>\n",
       "      <td>276279.0</td>\n",
       "    </tr>\n",
       "    <tr>\n",
       "      <th>12</th>\n",
       "      <td>Month-13</td>\n",
       "      <td>Region - B</td>\n",
       "      <td>Manager - A</td>\n",
       "      <td>145062.0</td>\n",
       "      <td>205180.0</td>\n",
       "    </tr>\n",
       "    <tr>\n",
       "      <th>13</th>\n",
       "      <td>Month-14</td>\n",
       "      <td>Region - A</td>\n",
       "      <td>Manager - A</td>\n",
       "      <td>151514.0</td>\n",
       "      <td>253131.0</td>\n",
       "    </tr>\n",
       "    <tr>\n",
       "      <th>14</th>\n",
       "      <td>Month-15</td>\n",
       "      <td>Region - C</td>\n",
       "      <td>Manager - A</td>\n",
       "      <td>147463.0</td>\n",
       "      <td>229336.0</td>\n",
       "    </tr>\n",
       "    <tr>\n",
       "      <th>15</th>\n",
       "      <td>Month-16</td>\n",
       "      <td>Region - A</td>\n",
       "      <td>Manager - B</td>\n",
       "      <td>177195.0</td>\n",
       "      <td>187305.0</td>\n",
       "    </tr>\n",
       "    <tr>\n",
       "      <th>16</th>\n",
       "      <td>Month-17</td>\n",
       "      <td>Region - A</td>\n",
       "      <td>Manager - C</td>\n",
       "      <td>140862.0</td>\n",
       "      <td>234908.0</td>\n",
       "    </tr>\n",
       "    <tr>\n",
       "      <th>17</th>\n",
       "      <td>Month-18</td>\n",
       "      <td>Region - C</td>\n",
       "      <td>Manager - B</td>\n",
       "      <td>167996.0</td>\n",
       "      <td>191517.0</td>\n",
       "    </tr>\n",
       "    <tr>\n",
       "      <th>18</th>\n",
       "      <td>Month-19</td>\n",
       "      <td>Region - B</td>\n",
       "      <td>Manager - A</td>\n",
       "      <td>132135.0</td>\n",
       "      <td>227040.0</td>\n",
       "    </tr>\n",
       "    <tr>\n",
       "      <th>19</th>\n",
       "      <td>Month-20</td>\n",
       "      <td>Region - A</td>\n",
       "      <td>Manager - B</td>\n",
       "      <td>152493.0</td>\n",
       "      <td>212579.0</td>\n",
       "    </tr>\n",
       "    <tr>\n",
       "      <th>20</th>\n",
       "      <td>Month-21</td>\n",
       "      <td>Region - B</td>\n",
       "      <td>Manager - A</td>\n",
       "      <td>147425.0</td>\n",
       "      <td>263388.0</td>\n",
       "    </tr>\n",
       "    <tr>\n",
       "      <th>21</th>\n",
       "      <td>Month-22</td>\n",
       "      <td>Region - A</td>\n",
       "      <td>Manager - C</td>\n",
       "      <td>130263.0</td>\n",
       "      <td>243020.0</td>\n",
       "    </tr>\n",
       "  </tbody>\n",
       "</table>\n",
       "</div>"
      ],
      "text/plain": [
       "       Month      Region      Manager  Sales_before_digital_add(in $)  \\\n",
       "0    Month-1  Region - A  Manager - A                        132921.0   \n",
       "1    Month-2  Region - A  Manager - C                        149559.0   \n",
       "2    Month-3  Region - B  Manager - A                        146278.0   \n",
       "3    Month-4  Region - B  Manager - B                        152167.0   \n",
       "4    Month-5  Region - C  Manager - B                        159525.0   \n",
       "5    Month-6  Region - A  Manager - B                        137163.0   \n",
       "6    Month-7  Region - C  Manager - C                        130625.0   \n",
       "7    Month-8  Region - A  Manager - A                        131140.0   \n",
       "8    Month-9  Region - B  Manager - C                        171259.0   \n",
       "9   Month-10  Region - C  Manager - B                        141956.0   \n",
       "10  Month-11  Region - B  Manager - C                        159339.0   \n",
       "11  Month-12  Region - A  Manager - A                        178939.0   \n",
       "12  Month-13  Region - B  Manager - A                        145062.0   \n",
       "13  Month-14  Region - A  Manager - A                        151514.0   \n",
       "14  Month-15  Region - C  Manager - A                        147463.0   \n",
       "15  Month-16  Region - A  Manager - B                        177195.0   \n",
       "16  Month-17  Region - A  Manager - C                        140862.0   \n",
       "17  Month-18  Region - C  Manager - B                        167996.0   \n",
       "18  Month-19  Region - B  Manager - A                        132135.0   \n",
       "19  Month-20  Region - A  Manager - B                        152493.0   \n",
       "20  Month-21  Region - B  Manager - A                        147425.0   \n",
       "21  Month-22  Region - A  Manager - C                        130263.0   \n",
       "\n",
       "    Sales_After_digital_add(in $)  \n",
       "0                        270390.0  \n",
       "1                        223334.0  \n",
       "2                        244243.0  \n",
       "3                        231808.0  \n",
       "4                        258402.0  \n",
       "5                        256948.0  \n",
       "6                        222106.0  \n",
       "7                        230637.0  \n",
       "8                        226261.0  \n",
       "9                        193735.0  \n",
       "10                       203175.0  \n",
       "11                       276279.0  \n",
       "12                       205180.0  \n",
       "13                       253131.0  \n",
       "14                       229336.0  \n",
       "15                       187305.0  \n",
       "16                       234908.0  \n",
       "17                       191517.0  \n",
       "18                       227040.0  \n",
       "19                       212579.0  \n",
       "20                       263388.0  \n",
       "21                       243020.0  "
      ]
     },
     "execution_count": 4,
     "metadata": {},
     "output_type": "execute_result"
    }
   ],
   "source": [
    "data=data.dropna(how=\"all\",axis=1)\n",
    "data=data.dropna(how=\"all\",axis=0)\n",
    "data"
   ]
  },
  {
   "cell_type": "markdown",
   "id": "b806c2eb",
   "metadata": {},
   "source": [
    "Analyzing the mean of sales before and after digital add"
   ]
  },
  {
   "cell_type": "code",
   "execution_count": 5,
   "id": "756b9703",
   "metadata": {},
   "outputs": [
    {
     "data": {
      "text/plain": [
       "Sales_before_digital_add(in $)    149239.954545\n",
       "Sales_After_digital_add(in $)     231123.727273\n",
       "dtype: float64"
      ]
     },
     "execution_count": 5,
     "metadata": {},
     "output_type": "execute_result"
    }
   ],
   "source": [
    "dt=data.mean(numeric_only=True)\n",
    "dt"
   ]
  },
  {
   "cell_type": "code",
   "execution_count": 6,
   "id": "6450f20f",
   "metadata": {},
   "outputs": [
    {
     "data": {
      "text/plain": [
       "Text(0, 0.5, 'Mean Sales')"
      ]
     },
     "execution_count": 6,
     "metadata": {},
     "output_type": "execute_result"
    },
    {
     "data": {
      "image/png": "[encoded data removed]",
      "text/plain": [
       "<Figure size 432x288 with 1 Axes>"
      ]
     },
     "metadata": {
      "needs_background": "light"
     },
     "output_type": "display_data"
    }
   ],
   "source": [
    "dt.plot(kind='bar')\n",
    "plt.title('Mean Sales before and after digital add')\n",
    "plt.xticks(rotation=0)\n",
    "plt.ylabel('Mean Sales')\n",
    " "
   ]
  },
  {
   "cell_type": "markdown",
   "id": "9ccf25e7",
   "metadata": {},
   "source": [
    "A company started to invest in digital marketing as a new way of their product promotions. For that they collected data and decided to carry out a study on it.\n",
    "\n",
    "● The company wishes to clarify whether there is any increase in sales after\n",
    "stepping into digital marketing.\n",
    "\n",
    "● The company needs to check whether there is any dependency between the features “Region” and “Manager”.\n",
    "\n",
    "Help the company to carry out their study with the help of data provided."
   ]
  },
  {
   "cell_type": "markdown",
   "id": "1581144c",
   "metadata": {},
   "source": [
    "### 1. Is there any increase in sales after stepping into digital marketing."
   ]
  },
  {
   "cell_type": "markdown",
   "id": "2bdb4bf2",
   "metadata": {},
   "source": [
    "Here the sample size is less than 30 and population standard deviation is unknown, so we go for the T Test with level of significance 5% (alpha=0.05)"
   ]
  },
  {
   "cell_type": "code",
   "execution_count": 7,
   "id": "45bd12e6",
   "metadata": {},
   "outputs": [],
   "source": [
    "#H0: There is no significant change in sales after stepping into digital marketing.\n",
    "#H1: There is increase in sales after stepping into digital marketing."
   ]
  },
  {
   "cell_type": "code",
   "execution_count": 8,
   "id": "51a1e846",
   "metadata": {},
   "outputs": [],
   "source": [
    "before=data['Sales_before_digital_add(in $)']\n",
    "after=data['Sales_After_digital_add(in $)']"
   ]
  },
  {
   "cell_type": "code",
   "execution_count": 9,
   "id": "18f56c79",
   "metadata": {},
   "outputs": [],
   "source": [
    "alpha=0.05"
   ]
  },
  {
   "cell_type": "code",
   "execution_count": 10,
   "id": "0367baac",
   "metadata": {},
   "outputs": [],
   "source": [
    "#library for t test\n",
    "from scipy.stats import ttest_ind"
   ]
  },
  {
   "cell_type": "code",
   "execution_count": 11,
   "id": "6572211f",
   "metadata": {},
   "outputs": [
    {
     "name": "stdout",
     "output_type": "stream",
     "text": [
      "P Value :  2.614368006904645e-16\n"
     ]
    }
   ],
   "source": [
    "_,P = ttest_ind(before,after)\n",
    "print(\"P Value : \",P)"
   ]
  },
  {
   "cell_type": "code",
   "execution_count": 12,
   "id": "8a48823b",
   "metadata": {},
   "outputs": [
    {
     "name": "stdout",
     "output_type": "stream",
     "text": [
      "reject H0\n"
     ]
    }
   ],
   "source": [
    "if P>alpha:\n",
    "    print(\"Failing to Reject H0\")\n",
    "else:\n",
    "    print(\"reject H0\")"
   ]
  },
  {
   "cell_type": "markdown",
   "id": "5c109364",
   "metadata": {},
   "source": [
    "Here P value < alpha. Therefore, we reject the Null Hypothesis.\n",
    "\n",
    "we conclude that There is increase in sales after stepping into digital Marketing"
   ]
  },
  {
   "cell_type": "markdown",
   "id": "0277d912",
   "metadata": {},
   "source": [
    "### 2.  check whether there is any dependency between the features “Region” and “Manager”"
   ]
  },
  {
   "cell_type": "markdown",
   "id": "5ba27f33",
   "metadata": {},
   "source": [
    "The Chi-square test analyzes categorical data. It tests if the variables are independent"
   ]
  },
  {
   "cell_type": "code",
   "execution_count": 13,
   "id": "6982ec5e",
   "metadata": {},
   "outputs": [],
   "source": [
    "#H0: Region and Manager are Independent features\n",
    "#H1: Region and manager are Dependent"
   ]
  },
  {
   "cell_type": "code",
   "execution_count": 14,
   "id": "f8478781",
   "metadata": {},
   "outputs": [],
   "source": [
    "region=data['Region']\n",
    "manager=data['Manager']"
   ]
  },
  {
   "cell_type": "code",
   "execution_count": 15,
   "id": "38870eb2",
   "metadata": {},
   "outputs": [
    {
     "data": {
      "text/html": [
       "<div>\n",
       "<style scoped>\n",
       "    .dataframe tbody tr th:only-of-type {\n",
       "        vertical-align: middle;\n",
       "    }\n",
       "\n",
       "    .dataframe tbody tr th {\n",
       "        vertical-align: top;\n",
       "    }\n",
       "\n",
       "    .dataframe thead th {\n",
       "        text-align: right;\n",
       "    }\n",
       "</style>\n",
       "<table border=\"1\" class=\"dataframe\">\n",
       "  <thead>\n",
       "    <tr style=\"text-align: right;\">\n",
       "      <th>Manager</th>\n",
       "      <th>Manager - A</th>\n",
       "      <th>Manager - B</th>\n",
       "      <th>Manager - C</th>\n",
       "    </tr>\n",
       "    <tr>\n",
       "      <th>Region</th>\n",
       "      <th></th>\n",
       "      <th></th>\n",
       "      <th></th>\n",
       "    </tr>\n",
       "  </thead>\n",
       "  <tbody>\n",
       "    <tr>\n",
       "      <th>Region - A</th>\n",
       "      <td>4</td>\n",
       "      <td>3</td>\n",
       "      <td>3</td>\n",
       "    </tr>\n",
       "    <tr>\n",
       "      <th>Region - B</th>\n",
       "      <td>4</td>\n",
       "      <td>1</td>\n",
       "      <td>2</td>\n",
       "    </tr>\n",
       "    <tr>\n",
       "      <th>Region - C</th>\n",
       "      <td>1</td>\n",
       "      <td>3</td>\n",
       "      <td>1</td>\n",
       "    </tr>\n",
       "  </tbody>\n",
       "</table>\n",
       "</div>"
      ],
      "text/plain": [
       "Manager     Manager - A  Manager - B  Manager - C\n",
       "Region                                           \n",
       "Region - A            4            3            3\n",
       "Region - B            4            1            2\n",
       "Region - C            1            3            1"
      ]
     },
     "execution_count": 15,
     "metadata": {},
     "output_type": "execute_result"
    }
   ],
   "source": [
    "CT=pd.crosstab(region,manager)\n",
    "CT"
   ]
  },
  {
   "cell_type": "code",
   "execution_count": 16,
   "id": "728c6512",
   "metadata": {},
   "outputs": [
    {
     "data": {
      "text/plain": [
       "<matplotlib.legend.Legend at 0x217a35f40a0>"
      ]
     },
     "execution_count": 16,
     "metadata": {},
     "output_type": "execute_result"
    },
    {
     "data": {
      "image/png": "[encoded data removed]",
      "text/plain": [
       "<Figure size 432x288 with 1 Axes>"
      ]
     },
     "metadata": {
      "needs_background": "light"
     },
     "output_type": "display_data"
    }
   ],
   "source": [
    "barplot = CT.plot.bar(rot=0)\n",
    "barplot.legend(bbox_to_anchor=(1, 1.02),\n",
    "         loc='upper left')"
   ]
  },
  {
   "cell_type": "code",
   "execution_count": 17,
   "id": "5d5f3095",
   "metadata": {},
   "outputs": [],
   "source": [
    "#library for chi square test\n",
    "from scipy.stats import chi2_contingency"
   ]
  },
  {
   "cell_type": "code",
   "execution_count": 18,
   "id": "64aa5da2",
   "metadata": {},
   "outputs": [
    {
     "data": {
      "text/plain": [
       "(3.050566893424036,\n",
       " 0.5493991051158094,\n",
       " 4,\n",
       " array([[4.09090909, 3.18181818, 2.72727273],\n",
       "        [2.86363636, 2.22727273, 1.90909091],\n",
       "        [2.04545455, 1.59090909, 1.36363636]]))"
      ]
     },
     "execution_count": 18,
     "metadata": {},
     "output_type": "execute_result"
    }
   ],
   "source": [
    "chi_value,P_value,df,exp=chi2_contingency(CT)\n",
    "chi_value,P_value,df,exp"
   ]
  },
  {
   "cell_type": "code",
   "execution_count": 19,
   "id": "2cb01283",
   "metadata": {},
   "outputs": [
    {
     "name": "stdout",
     "output_type": "stream",
     "text": [
      "Failing to Reject H0\n"
     ]
    }
   ],
   "source": [
    "if P_value>alpha:\n",
    "    print(\"Failing to Reject H0\")\n",
    "else:\n",
    "    print(\"reject H0\")"
   ]
  },
  {
   "cell_type": "markdown",
   "id": "b2bb5748",
   "metadata": {},
   "source": [
    "Here the P Value is greater that the alpha 0.05 Therfore, we fail to reject the null hypothesis. \n",
    "we accept the null hypothesis\n",
    "\n",
    "Region and Manager are Independent features"
   ]
  },
  {
   "cell_type": "code",
   "execution_count": null,
   "id": "6ceaf76c",
   "metadata": {},
   "outputs": [],
   "source": []
  }
 ],
 "metadata": {
  "kernelspec": {
   "display_name": "Python 3 (ipykernel)",
   "language": "python",
   "name": "python3"
  },
  "language_info": {
   "codemirror_mode": {
    "name": "ipython",
    "version": 3
   },
   "file_extension": ".py",
   "mimetype": "text/x-python",
   "name": "python",
   "nbconvert_exporter": "python",
   "pygments_lexer": "ipython3",
   "version": "3.9.12"
  }
 },
 "nbformat": 4,
 "nbformat_minor": 5
}
